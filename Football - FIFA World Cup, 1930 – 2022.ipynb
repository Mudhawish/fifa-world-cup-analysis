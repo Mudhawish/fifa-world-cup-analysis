{
 "cells": [
  {
   "cell_type": "code",
   "execution_count": null,
   "id": "9b4f4bfc",
   "metadata": {},
   "outputs": [],
   "source": [
    "# This is Mudhawi Saleh Alshiha\n",
    "# FIFA World Cup Analysis (1930–2022)\n",
    "# In this notebook, I explore match and tournament data from the FIFA World Cups to uncover trends, team performance, and championship paths.\n"
   ]
  },
  {
   "cell_type": "code",
   "execution_count": null,
   "id": "d2cb7250",
   "metadata": {},
   "outputs": [],
   "source": [
    "import pandas as pd\n",
    "import sqlite3\n",
    "import matplotlib.pyplot as plt"
   ]
  },
  {
   "cell_type": "code",
   "execution_count": null,
   "id": "2a52c798",
   "metadata": {},
   "outputs": [],
   "source": [
    "# 1. Load & Store Data"
   ]
  },
  {
   "cell_type": "code",
   "execution_count": null,
   "id": "23664f47",
   "metadata": {},
   "outputs": [],
   "source": [
    "# Load the match-level data from 1930 to 2022 & the World Cup summary data (champions, hosts, etc.)\n",
    "\n",
    "matches = pd.read_csv(\"/Users/madhawialshiha/Downloads/footballdatasets/matches_1930_2022.csv\")\n",
    "cups = pd.read_csv(\"/Users/madhawialshiha/Downloads/footballdatasets/world_cup.csv\")\n"
   ]
  },
  {
   "cell_type": "code",
   "execution_count": null,
   "id": "6a0fc861",
   "metadata": {},
   "outputs": [],
   "source": [
    "# Needed to create a local SQLite connection so we can store the data\n",
    "\n",
    "conn = sqlite3.connect(\"/Users/madhawialshiha/Documents/worldcup.db\")\n"
   ]
  },
  {
   "cell_type": "code",
   "execution_count": null,
   "id": "17333b73",
   "metadata": {},
   "outputs": [
    {
     "data": {
      "text/plain": [
       "22"
      ]
     },
     "execution_count": 10,
     "metadata": {},
     "output_type": "execute_result"
    }
   ],
   "source": [
    "# Here we are saving both datasets to SQLite table\n",
    "\n",
    "matches.to_sql(\"matches\", conn, if_exists=\"replace\", index=False)\n",
    "cups.to_sql(\"cups\", conn, if_exists=\"replace\", index=False)\n"
   ]
  },
  {
   "cell_type": "code",
   "execution_count": null,
   "id": "3c78f3ad",
   "metadata": {},
   "outputs": [
    {
     "name": "stdout",
     "output_type": "stream",
     "text": [
      "    Year  Match\n",
      "0   1930     18\n",
      "1   1934     17\n",
      "2   1938     18\n",
      "3   1950     22\n",
      "4   1954     26\n",
      "5   1958     35\n",
      "6   1962     32\n",
      "7   1966     32\n",
      "8   1970     32\n",
      "9   1974     38\n",
      "10  1978     38\n",
      "11  1982     52\n",
      "12  1986     52\n",
      "13  1990     52\n",
      "14  1994     52\n",
      "15  1998     64\n",
      "16  2002     64\n",
      "17  2006     64\n",
      "18  2010     64\n",
      "19  2014     64\n",
      "20  2018     64\n",
      "21  2022     64\n"
     ]
    }
   ],
   "source": [
    "# We want to know each year how many matches were played\n",
    "\n",
    "query = \"\"\"\n",
    "SELECT Year, COUNT(*) as Match\n",
    "FROM matches\n",
    "GROUP BY Year\n",
    "ORDER BY Year\n",
    "\"\"\"\n",
    "\n",
    "result = pd.read_sql_query(query, conn)\n",
    "print(result)\n"
   ]
  },
  {
   "cell_type": "code",
   "execution_count": 48,
   "id": "eddd475c",
   "metadata": {},
   "outputs": [
    {
     "name": "stdout",
     "output_type": "stream",
     "text": [
      "                               name\n",
      "0                         home_team\n",
      "1                         away_team\n",
      "2                        home_score\n",
      "3                           home_xg\n",
      "4                      home_penalty\n",
      "5                        away_score\n",
      "6                           away_xg\n",
      "7                      away_penalty\n",
      "8                      home_manager\n",
      "9                      home_captain\n",
      "10                     away_manager\n",
      "11                     away_captain\n",
      "12                       Attendance\n",
      "13                            Venue\n",
      "14                        Officials\n",
      "15                            Round\n",
      "16                             Date\n",
      "17                            Score\n",
      "18                          Referee\n",
      "19                            Notes\n",
      "20                             Host\n",
      "21                             Year\n",
      "22                        home_goal\n",
      "23                        away_goal\n",
      "24                   home_goal_long\n",
      "25                   away_goal_long\n",
      "26                    home_own_goal\n",
      "27                    away_own_goal\n",
      "28                home_penalty_goal\n",
      "29                away_penalty_goal\n",
      "30           home_penalty_miss_long\n",
      "31           away_penalty_miss_long\n",
      "32  home_penalty_shootout_goal_long\n",
      "33  away_penalty_shootout_goal_long\n",
      "34  home_penalty_shootout_miss_long\n",
      "35  away_penalty_shootout_miss_long\n",
      "36                    home_red_card\n",
      "37                    away_red_card\n",
      "38             home_yellow_red_card\n",
      "39             away_yellow_red_card\n",
      "40            home_yellow_card_long\n",
      "41            away_yellow_card_long\n",
      "42          home_substitute_in_long\n",
      "43          away_substitute_in_long\n"
     ]
    }
   ],
   "source": [
    "# This shows the actual column names in your \"matches\" table\n",
    "query = \"PRAGMA table_info(matches);\"\n",
    "cols = pd.read_sql_query(query, conn)\n",
    "print(cols[['name']])\n"
   ]
  },
  {
   "cell_type": "code",
   "execution_count": null,
   "id": "4854abff",
   "metadata": {},
   "outputs": [
    {
     "name": "stdout",
     "output_type": "stream",
     "text": [
      "Table 'clean_matches' created.\n"
     ]
    }
   ],
   "source": [
    "# We want to make sure to save the cleaned match data (that includes:goals and result) into a new SQL table\n",
    "\n",
    "query = \"\"\"\n",
    "CREATE TABLE IF NOT EXISTS clean_matches AS\n",
    "SELECT *,\n",
    "       home_goal + away_goal AS total_goals,\n",
    "       CASE\n",
    "           WHEN home_goal > away_goal THEN home_team\n",
    "           WHEN home_goal < away_goal THEN away_team\n",
    "           ELSE 'Draw'\n",
    "       END AS match_result\n",
    "FROM matches\n",
    "\"\"\"\n",
    "conn.execute(query)\n",
    "conn.commit()\n",
    "print(\"Table 'clean_matches' created.\")\n"
   ]
  },
  {
   "cell_type": "code",
   "execution_count": null,
   "id": "b89e05ef",
   "metadata": {},
   "outputs": [],
   "source": [
    "# Function to count us the number of goals from goal description\n",
    "def count_goals(goal_string):\n",
    "    if pd.isna(goal_string) or goal_string.strip() == \"\":\n",
    "        return 0\n",
    "    return len(goal_string.split(\"|\"))\n",
    "\n",
    "# Apply to matches\n",
    "matches['home_goal_count'] = matches['home_goal'].apply(count_goals)\n",
    "matches['away_goal_count'] = matches['away_goal'].apply(count_goals)\n",
    "\n",
    "# Create a total goals column\n",
    "matches['total_goals'] = matches['home_goal_count'] + matches['away_goal_count']\n",
    "\n",
    "# Create match result column\n",
    "def determine_result(row):\n",
    "    if row['home_goal_count'] > row['away_goal_count']:\n",
    "        return row['home_team']\n",
    "    elif row['home_goal_count'] < row['away_goal_count']:\n",
    "        return row['away_team']\n",
    "    else:\n",
    "        return \"Draw\"\n",
    "\n",
    "matches['match_result'] = matches.apply(determine_result, axis=1)\n"
   ]
  },
  {
   "cell_type": "code",
   "execution_count": null,
   "id": "d0eb621b",
   "metadata": {},
   "outputs": [
    {
     "name": "stdout",
     "output_type": "stream",
     "text": [
      "Clean table with goal counts saved.\n"
     ]
    }
   ],
   "source": [
    "# Now that we’ve added goal counts and match results, save the updated data to a new SQL table\n",
    "matches.to_sql(\"clean_matches\", conn, if_exists=\"replace\", index=False)\n",
    "print(\"Clean table with goal counts saved.\")\n"
   ]
  },
  {
   "cell_type": "code",
   "execution_count": null,
   "id": "8b629c26",
   "metadata": {},
   "outputs": [],
   "source": [
    "## Highest Scoring Matches in World Cup History\n",
    "# Let’s look at the top 10 matches with the highest total goals. This helps identify the most action-packed games and gives insight into offensive trends over the years.\n"
   ]
  },
  {
   "cell_type": "code",
   "execution_count": 53,
   "id": "aedf4909",
   "metadata": {},
   "outputs": [
    {
     "name": "stdout",
     "output_type": "stream",
     "text": [
      "  home_team      away_team  home_goal_count  away_goal_count  total_goals\n",
      "Switzerland        Austria                5                7           12\n",
      "    Hungary    El Salvador               10                1           11\n",
      "    Hungary        Germany                8                3           11\n",
      "     Brazil         Poland                6                4           10\n",
      " Yugoslavia          Zaire                9                0            9\n",
      "     France       Paraguay                7                2            9\n",
      "    Germany        Türkiye                7                2            9\n",
      "    Hungary Korea Republic                9                0            9\n",
      "     Brazil        Germany                1                7            8\n",
      "    Germany   Saudi Arabia                8                0            8\n"
     ]
    }
   ],
   "source": [
    "# Query to find the top 10 World Cup matches with the highest combined goal totals\n",
    "df = pd.read_sql_query(\"\"\"\n",
    "SELECT home_team, away_team, home_goal_count, away_goal_count, total_goals\n",
    "FROM clean_matches\n",
    "ORDER BY total_goals DESC\n",
    "LIMIT 10\n",
    "\"\"\", conn)\n",
    "\n",
    "print(df.to_string(index=False))\n"
   ]
  },
  {
   "cell_type": "code",
   "execution_count": null,
   "id": "266952ce",
   "metadata": {},
   "outputs": [],
   "source": [
    "# Head-to-Head Rivalry Analysis\n",
    "# We going to explore the full match history between any two World Cup teams —> including results, goals, and rounds. A mini rivalry deep-dive!\n",
    "\n"
   ]
  },
  {
   "cell_type": "code",
   "execution_count": 54,
   "id": "c007a27c",
   "metadata": {},
   "outputs": [],
   "source": [
    "#Analyze and display the rivalry between two World Cup teams\n",
    "#Outputs match history, total wins, and a simple bar chart of outcomes\n",
    "\n",
    "\n",
    "def analyze_team_rivalry(team1, team2, conn):\n",
    "    #Build a SQL query to fetch all matches between the two teams, regardless of (home or away)\n",
    "    query = f\"\"\"\n",
    "    SELECT\n",
    "        home_team,\n",
    "        away_team,\n",
    "        home_goal_count,\n",
    "        away_goal_count,\n",
    "        total_goals,\n",
    "        match_result,\n",
    "        Year,\n",
    "        Round,\n",
    "        Venue\n",
    "    FROM clean_matches\n",
    "    WHERE\n",
    "        (home_team = '{team1}' AND away_team = '{team2}')\n",
    "        OR\n",
    "        (home_team = '{team2}' AND away_team = '{team1}')\n",
    "    ORDER BY Year\n",
    "    \"\"\"\n",
    "    \n",
    "    # Execute the SQL and load the results into a DataFrame\n",
    "    df = pd.read_sql_query(query, conn)\n",
    "    \n",
    "    \n",
    "    # If there are no matches between the teams, show a message and exit\n",
    "    if df.empty:\n",
    "        print(f\"No matches found between {team1} and {team2}.\")\n",
    "        return\n",
    "    # Print the full match history in a nice format\n",
    "    print(f\"\\n Match History: {team1} vs {team2}\")\n",
    "    print(df.to_string(index=False))\n",
    "\n",
    "    # Summary statistics: total matches, wins, and draws\n",
    "    print(f\"\\n Total Matches: {len(df)}\")\n",
    "    print(f\" {team1} Wins:\", len(df[df['match_result'] == team1]))\n",
    "    print(f\" {team2} Wins:\", len(df[df['match_result'] == team2]))\n",
    "    print(f\" Draws:\", len(df[df['match_result'] == 'Draw']))\n",
    "\n",
    "    # Plot the number of wins and draws using a bar chart\n",
    "    try:\n",
    "        import matplotlib.pyplot as plt\n",
    "        result_counts = df['match_result'].value_counts()\n",
    "        result_counts.plot(kind='bar', title=f'{team1} vs {team2} - Match Outcomes')\n",
    "        plt.xlabel('Winner')\n",
    "        plt.ylabel('Number of Matches')\n",
    "        plt.show()\n",
    "    except:\n",
    "        print(\" Could not display chart — matplotlib not available.\")\n"
   ]
  },
  {
   "cell_type": "code",
   "execution_count": 55,
   "id": "c33d3c42",
   "metadata": {},
   "outputs": [
    {
     "name": "stdout",
     "output_type": "stream",
     "text": [
      "clean_matches table updated with total_goals and match_result.\n"
     ]
    }
   ],
   "source": [
    "# Recreate the clean_matches table with match_result and total_goals\n",
    "# Logic:\n",
    "# - total_goals: sum of home and away goals\n",
    "# - match_result: the winner or 'Draw' based on goal comparison\n",
    "\n",
    "query = \"\"\"\n",
    "CREATE TABLE IF NOT EXISTS clean_matches AS\n",
    "SELECT *,\n",
    "       home_goal_count + away_goal_count AS total_goals,\n",
    "       CASE\n",
    "           WHEN home_goal_count > away_goal_count THEN home_team\n",
    "           WHEN home_goal_count < away_goal_count THEN away_team\n",
    "           ELSE 'Draw'\n",
    "       END AS match_result\n",
    "FROM matches\n",
    "\"\"\"\n",
    "# Run the SQL command and save the table to the database\n",
    "conn.execute(query)\n",
    "conn.commit()\n",
    "\n",
    "\n",
    "#To confirm the table was updated successfully\n",
    "print(\"clean_matches table updated with total_goals and match_result.\")\n"
   ]
  },
  {
   "cell_type": "code",
   "execution_count": 59,
   "id": "5c023346",
   "metadata": {},
   "outputs": [],
   "source": [
    "# Argentina vs France: World Cup Rivalry (an example)\n",
    "#Let’s explore the historical matches between Argentina and France —> including wins, goals, and tournament stages.\n"
   ]
  },
  {
   "cell_type": "code",
   "execution_count": 62,
   "id": "e2bea58e",
   "metadata": {},
   "outputs": [
    {
     "name": "stdout",
     "output_type": "stream",
     "text": [
      "\n",
      " Match History: Argentina vs France\n",
      "home_team away_team  home_goal_count  away_goal_count  total_goals match_result  Year       Round                                                            Venue\n",
      "Argentina    France                1                0            1    Argentina  1930 Group stage                                       Parque Central, Montevideo\n",
      "Argentina    France                1                1            2         Draw  1978 First round El Monumental - Estadio Monumental Antonio Vespuci, Buenos Aires\n",
      "   France Argentina                3                3            6         Draw  2018 Round of 16                                               Kazan Arena, Kazan\n",
      "Argentina    France                2                1            3    Argentina  2022       Final                                    Lusail Iconic Stadium, Lusail\n",
      "\n",
      " Total Matches: 4\n",
      " Argentina Wins: 2\n",
      " France Wins: 0\n",
      " Draws: 2\n"
     ]
    },
    {
     "data": {
      "image/png": "[encoded data removed]",
      "text/plain": [
       "<Figure size 640x480 with 1 Axes>"
      ]
     },
     "metadata": {},
     "output_type": "display_data"
    }
   ],
   "source": [
    "# Feel free to change the teams here! Just double-check that the names match exactly (spelling matters)\n",
    "\n",
    "analyze_team_rivalry(\"Argentina\", \"France\", conn)\n"
   ]
  },
  {
   "cell_type": "code",
   "execution_count": 57,
   "id": "dcdca845",
   "metadata": {},
   "outputs": [],
   "source": [
    "#now i will try to analyze each team's performance in the last 4 World Cups (2006, 2010, 2014, 2018, and 2022) "
   ]
  },
  {
   "cell_type": "code",
   "execution_count": 63,
   "id": "3478318b",
   "metadata": {},
   "outputs": [],
   "source": [
    "# Retrieve match results from the last 5 World Cups (2006–2022) for team performance analysis\n",
    "query = \"\"\"\n",
    "SELECT \n",
    "    home_team,\n",
    "    away_team,\n",
    "    home_goal_count,\n",
    "    away_goal_count,\n",
    "    match_result,\n",
    "    Year\n",
    "FROM clean_matches\n",
    "WHERE Year IN (2006, 2010, 2014, 2018, 2022)\n",
    "\"\"\"\n",
    "df = pd.read_sql_query(query, conn)\n"
   ]
  },
  {
   "cell_type": "code",
   "execution_count": null,
   "id": "006f6aac",
   "metadata": {},
   "outputs": [],
   "source": [
    "# Create home team rows\n",
    "home_df = df[['home_team', 'home_goal_count', 'away_goal_count', 'match_result', 'Year']].copy()\n",
    "home_df.rename(columns={\n",
    "    'home_team': 'team',\n",
    "    'home_goal_count': 'goals_for',\n",
    "    'away_goal_count': 'goals_against'\n",
    "}, inplace=True)\n",
    "\n",
    "# Determine result (Win, Loss or Draw) for the home team based on the match outcome\n",
    "home_df['result'] = home_df.apply(lambda row: 'Win' if row['match_result'] == row['team']\n",
    "                                  else ('Loss' if row['match_result'] != 'Draw' else 'Draw'), axis=1)\n",
    "\n",
    "# Do the same for away teams —> convert their view of each match into a row\n",
    "away_df = df[['away_team', 'away_goal_count', 'home_goal_count', 'match_result', 'Year']].copy()\n",
    "away_df.rename(columns={\n",
    "    'away_team': 'team',\n",
    "    'away_goal_count': 'goals_for',\n",
    "    'home_goal_count': 'goals_against'\n",
    "}, inplace=True)\n",
    "\n",
    "# Determine result (Win, Loss or Draw) for the away team\n",
    "away_df['result'] = away_df.apply(lambda row: 'Win' if row['match_result'] == row['team']\n",
    "                                  else ('Loss' if row['match_result'] != 'Draw' else 'Draw'), axis=1)\n",
    "\n",
    "# Combine home and away rows so we can analyze team performance regardless of match location\n",
    "all_matches = pd.concat([home_df, away_df], ignore_index=True)\n"
   ]
  },
  {
   "cell_type": "code",
   "execution_count": 69,
   "id": "2c1665a8",
   "metadata": {},
   "outputs": [
    {
     "name": "stdout",
     "output_type": "stream",
     "text": [
      "        team  Year  Matches  Wins  Draws  Losses  Goals_For  Goals_Against      Win_%\n",
      "0    Algeria  2010        3     0      1       2          0              2   0.000000\n",
      "1    Algeria  2014        4     1      1       2          6              7  25.000000\n",
      "2     Angola  2006        3     0      2       1          1              2   0.000000\n",
      "3  Argentina  2006        5     2      3       0         10              3  40.000000\n",
      "4  Argentina  2010        5     4      0       1          9              6  80.000000\n",
      "5  Argentina  2014        7     4      2       1          7              4  57.142857\n",
      "6  Argentina  2018        4     1      2       1          6              7  25.000000\n",
      "7  Argentina  2022        7     5      0       2         11              5  71.428571\n",
      "8  Australia  2006        4     1      1       2          4              5  25.000000\n",
      "9  Australia  2010        3     2      0       1          3              5  66.666667\n"
     ]
    }
   ],
   "source": [
    "# Summarize overall team performance across all matches\n",
    "# We'll calculate total matches, wins, draws, losses, and goals\n",
    "\n",
    "team_year_stats = all_matches.groupby(['team', 'Year']).agg(\n",
    "    Matches=('result', 'count'),\n",
    "    Wins=('result', lambda x: (x == 'Win').sum()),\n",
    "    Draws=('result', lambda x: (x == 'Draw').sum()),\n",
    "    Losses=('result', lambda x: (x == 'Loss').sum()),\n",
    "    Goals_For=('goals_for', 'sum'),\n",
    "    Goals_Against=('goals_against', 'sum')\n",
    ").reset_index()\n",
    "\n",
    "\n",
    "# Calculate win percentage\n",
    "#team_stats['Win_%'] = (team_stats['Wins'] / team_stats['Matches']) * 100\n",
    "team_year_stats['Win_%'] = (team_year_stats['Wins'] / team_year_stats['Matches']) * 100\n",
    "\n",
    "\n",
    "# Sort by most wins or best win %\n",
    "team_stats = team_stats.sort_values(by='Wins', ascending=False)\n",
    "\n",
    "print(team_year_stats.head(10).to_string())\n"
   ]
  },
  {
   "cell_type": "code",
   "execution_count": null,
   "id": "b210e6b1",
   "metadata": {},
   "outputs": [
    {
     "data": {
      "image/png": "[encoded data removed]",
      "text/plain": [
       "<Figure size 800x500 with 1 Axes>"
      ]
     },
     "metadata": {},
     "output_type": "display_data"
    }
   ],
   "source": [
    "# Filter data for one team, we can have for multiple teams \n",
    "team_name = \"France\"\n",
    "france_stats = team_year_stats[team_year_stats['team'] == team_name]\n",
    "\n",
    "# If we want to have multiple team shown\n",
    "#top_teams = ['France', 'Argentina', 'Brazil', 'Germany']\n",
    "\n",
    "#plt.figure(figsize=(10, 6))\n",
    "\n",
    "#for team in top_teams:\n",
    "    #stats = team_year_stats[team_year_stats['team'] == team]\n",
    "    #plt.plot(stats['Year'], stats['Win_%'], marker='o', label=team)\n",
    "\n",
    "#plt.title(\"Win Percentage Over Time (Top Teams)\")\n",
    "#plt.xlabel(\"Year\")\n",
    "#plt.ylabel(\"Win Percentage\")\n",
    "#plt.legend()\n",
    "#plt.grid(True)\n",
    "#plt.show()\n",
    "\n",
    "\n",
    "\n",
    "\n",
    "\n",
    "# Plot win % over the years\n",
    "plt.figure(figsize=(8, 5))\n",
    "plt.plot(france_stats['Year'], france_stats['Win_%'], marker='o')\n",
    "plt.title(f\"{team_name} Win % by World Cup Year\")\n",
    "plt.xlabel(\"Year\")\n",
    "plt.ylabel(\"Win Percentage\")\n",
    "plt.ylim(0, 100)\n",
    "plt.grid(True)\n",
    "plt.show()"
   ]
  },
  {
   "cell_type": "code",
   "execution_count": 71,
   "id": "be08f258",
   "metadata": {},
   "outputs": [
    {
     "data": {
      "image/png": "[encoded data removed]",
      "text/plain": [
       "<Figure size 1200x600 with 1 Axes>"
      ]
     },
     "metadata": {},
     "output_type": "display_data"
    }
   ],
   "source": [
    "\n",
    "\n",
    "# Plot the top 10 teams with the most wins from World Cups between 2006 and 2022\n",
    "\n",
    "# Select top 10 teams by number of wins\n",
    "top_teams = team_stats.sort_values(by='Wins', ascending=False).head(10)\n",
    "\n",
    "# Create bar chart\n",
    "plt.figure(figsize=(12, 6))\n",
    "plt.bar(top_teams.index, top_teams['Wins'], label='Wins', color='skyblue')\n",
    "\n",
    "# Add chart details\n",
    "plt.title('Top 10 Teams by Wins (2006–2022 World Cups)')\n",
    "plt.xlabel('Team')\n",
    "plt.ylabel('Number of Wins')\n",
    "plt.xticks(rotation=45)\n",
    "plt.grid(axis='y', linestyle='--', alpha=0.7)\n",
    "\n",
    "# Format layout and show\n",
    "plt.tight_layout()\n",
    "plt.show()\n",
    "\n"
   ]
  },
  {
   "cell_type": "code",
   "execution_count": null,
   "id": "0ad5f27e",
   "metadata": {},
   "outputs": [],
   "source": [
    "# Assign a numerical value to each round to measure team progression in the tournament\n",
    "# Higher values = deeper into the tournament (e.g., Final = 7, Group stage = 1)\n",
    "round_order = {\n",
    "    \"Group stage\": 1,\n",
    "    \"First round\": 1,\n",
    "    \"Second round\": 2,\n",
    "    \"Round of 16\": 3,\n",
    "    \"Quarter-finals\": 4,\n",
    "    \"Semi-finals\": 5,\n",
    "    \"Third place\": 6,\n",
    "    \"Final\": 7\n",
    "}\n",
    "query = \"\"\"\n",
    "SELECT home_team, away_team, match_result, Round, Year\n",
    "FROM clean_matches\n",
    "WHERE Year IN (2006, 2010, 2014, 2018, 2022)\n",
    "\"\"\"\n",
    "df = pd.read_sql_query(query, conn)\n",
    "\n",
    "# Map each match’s round name to its corresponding numeric rank\n",
    "df['round_rank'] = df['Round'].map(round_order)"
   ]
  },
  {
   "cell_type": "code",
   "execution_count": null,
   "id": "14b45739",
   "metadata": {},
   "outputs": [],
   "source": [
    "# What can we do Instead of hardcoding the last 5 World Cup years?\n",
    "# We can find them dynamically\n",
    "# Step 1: Get the last 5 unique tournament years from the database\n",
    "years_df = pd.read_sql_query(\"SELECT DISTINCT Year FROM clean_matches ORDER BY Year DESC LIMIT 5\", conn)\n",
    "recent_years = sorted(years_df['Year'].tolist())  # sort to keep ascending order (e.g., 2006 → 2022)\n",
    "\n",
    "# Step 2: Convert the list of years into a tuple for the SQL IN clause\n",
    "year_tuple = tuple(recent_years)\n",
    "\n",
    "# Step 3: Use those years in your query to fetch relevant matches\n",
    "query = f\"\"\"\n",
    "SELECT home_team, away_team, match_result, Round, Year\n",
    "FROM clean_matches\n",
    "WHERE Year IN {year_tuple}\n",
    "\"\"\"\n",
    "df = pd.read_sql_query(query, conn)\n"
   ]
  },
  {
   "cell_type": "code",
   "execution_count": 78,
   "id": "fe6200a9",
   "metadata": {},
   "outputs": [],
   "source": [
    "# Assign numeric values to each round to measure how far teams progressed in the tournament\n",
    "# Higher numbers mean later stages (e.g. Final = 7, Group stage = 1)\n",
    "round_order = {\n",
    "    \"Group stage\": 1,\n",
    "    \"First round\": 1,\n",
    "    \"Second round\": 2,\n",
    "    \"Round of 16\": 3,\n",
    "    \"Quarter-finals\": 4,\n",
    "    \"Semi-finals\": 5,\n",
    "    \"Third place\": 6,\n",
    "    \"Final\": 7\n",
    "}\n",
    "\n",
    "# Map each match’s round to its progression rank\n",
    "df['round_rank'] = df['Round'].map(round_order)\n"
   ]
  },
  {
   "cell_type": "code",
   "execution_count": 79,
   "id": "fe66296d",
   "metadata": {},
   "outputs": [
    {
     "name": "stdout",
     "output_type": "stream",
     "text": [
      "Year                              2006            2010            2014  \\\n",
      "team                                                                     \n",
      "Algeria                              —     First round     Round of 16   \n",
      "Angola                     First round               —               —   \n",
      "Argentina               Quarter-finals  Quarter-finals           Final   \n",
      "Australia                  Round of 16     First round     First round   \n",
      "Belgium                              —               —  Quarter-finals   \n",
      "Bosnia and Herzegovina               —               —     First round   \n",
      "Brazil                  Quarter-finals  Quarter-finals     Semi-finals   \n",
      "Cameroon                             —     First round     First round   \n",
      "Canada                               —               —               —   \n",
      "Chile                                —     Round of 16     Round of 16   \n",
      "\n",
      "Year                              2018            2022  \n",
      "team                                                    \n",
      "Algeria                              —               —  \n",
      "Angola                               —               —  \n",
      "Argentina                  Round of 16           Final  \n",
      "Australia                  First round     Round of 16  \n",
      "Belgium                    Semi-finals     First round  \n",
      "Bosnia and Herzegovina               —               —  \n",
      "Brazil                  Quarter-finals  Quarter-finals  \n",
      "Cameroon                             —     First round  \n",
      "Canada                               —     First round  \n",
      "Chile                                —               —  \n"
     ]
    }
   ],
   "source": [
    "# Re-map with correct dictionary\n",
    "df['round_rank'] = df['Round'].map(round_order)\n",
    "\n",
    "# Create both home/away team appearances\n",
    "home_df = df[['home_team', 'Year', 'round_rank']].rename(columns={'home_team': 'team'})\n",
    "away_df = df[['away_team', 'Year', 'round_rank']].rename(columns={'away_team': 'team'})\n",
    "all_teams = pd.concat([home_df, away_df], ignore_index=True)\n",
    "\n",
    "# Get max round for each team each year\n",
    "team_stage = all_teams.groupby(['team', 'Year']).agg(Max_Stage=('round_rank', 'max')).reset_index()\n",
    "\n",
    "# Reverse for stage names\n",
    "reverse_round_map = {v: k for k, v in round_order.items()}\n",
    "team_stage['Stage_Name'] = team_stage['Max_Stage'].map(reverse_round_map)\n",
    "\n",
    "# Pivot for final output\n",
    "team_pivot = team_stage.pivot(index='team', columns='Year', values='Stage_Name').fillna('—')\n",
    "print(team_pivot.head(10))\n",
    "\n"
   ]
  },
  {
   "cell_type": "code",
   "execution_count": null,
   "id": "b7f8644d",
   "metadata": {},
   "outputs": [],
   "source": [
    "# Show the full path to victory for a World Cup winning team\n",
    "# Displays each match played by the winner in chronological round order (e.g. group stage → final)"
   ]
  },
  {
   "cell_type": "code",
   "execution_count": 80,
   "id": "88357e01",
   "metadata": {},
   "outputs": [],
   "source": [
    "def winner_road_to_glory(winner_team, year, conn):\n",
    "    query = f\"\"\"\n",
    "    SELECT \n",
    "        home_team, away_team, home_goal_count, away_goal_count, match_result, Round\n",
    "    FROM clean_matches\n",
    "    WHERE Year = {year}\n",
    "    AND (home_team = '{winner_team}' OR away_team = '{winner_team}')\n",
    "    ORDER BY \n",
    "        CASE\n",
    "            WHEN Round = 'Group stage' THEN 1\n",
    "            WHEN Round = 'First round' THEN 1\n",
    "            WHEN Round = 'Second round' THEN 2\n",
    "            WHEN Round = 'Round of 16' THEN 3\n",
    "            WHEN Round = 'Quarter-finals' THEN 4\n",
    "            WHEN Round = 'Semi-finals' THEN 5\n",
    "            WHEN Round = 'Third place' THEN 6\n",
    "            WHEN Round = 'Final' THEN 7\n",
    "            ELSE 8\n",
    "        END\n",
    "    \"\"\"\n",
    "    journey = pd.read_sql_query(query, conn)\n",
    "    print(f\"\\n {winner_team} Road to World Cup Victory ({year})\")\n",
    "    print(journey.to_string(index=False))\n"
   ]
  },
  {
   "cell_type": "code",
   "execution_count": 81,
   "id": "817d7737",
   "metadata": {},
   "outputs": [
    {
     "name": "stdout",
     "output_type": "stream",
     "text": [
      "\n",
      " Argentina Road to World Cup Victory (2022)\n",
      "  home_team    away_team  home_goal_count  away_goal_count match_result          Round\n",
      "     Poland    Argentina                0                2    Argentina    Group stage\n",
      "  Argentina       Mexico                2                0    Argentina    Group stage\n",
      "  Argentina Saudi Arabia                0                2 Saudi Arabia    Group stage\n",
      "  Argentina    Australia                2                0    Argentina    Round of 16\n",
      "Netherlands    Argentina                2                1  Netherlands Quarter-finals\n",
      "  Argentina      Croatia                2                0    Argentina    Semi-finals\n",
      "  Argentina       France                2                1    Argentina          Final\n",
      "\n",
      " France Road to World Cup Victory (2018)\n",
      "home_team away_team  home_goal_count  away_goal_count match_result          Round\n",
      "  Denmark    France                0                0         Draw    Group stage\n",
      "   France      Peru                1                0       France    Group stage\n",
      "   France Australia                0                0         Draw    Group stage\n",
      "   France Argentina                3                3         Draw    Round of 16\n",
      "  Uruguay    France                0                2       France Quarter-finals\n",
      "   France   Belgium                1                0       France    Semi-finals\n",
      "   France   Croatia                2                2         Draw          Final\n",
      "\n",
      " Germany Road to World Cup Victory (2014)\n",
      "    home_team away_team  home_goal_count  away_goal_count match_result          Round\n",
      "United States   Germany                0                1      Germany    Group stage\n",
      "      Germany     Ghana                2                2         Draw    Group stage\n",
      "      Germany  Portugal                3                0      Germany    Group stage\n",
      "      Germany   Algeria                2                1      Germany    Round of 16\n",
      "       France   Germany                0                1      Germany Quarter-finals\n",
      "       Brazil   Germany                1                7      Germany    Semi-finals\n",
      "      Germany Argentina                1                0      Germany          Final\n",
      "\n",
      " Spain Road to World Cup Victory (2010)\n",
      "  home_team   away_team  home_goal_count  away_goal_count match_result          Round\n",
      "      Chile       Spain                1                2        Spain    Group stage\n",
      "      Spain    Honduras                2                0        Spain    Group stage\n",
      "      Spain Switzerland                0                1  Switzerland    Group stage\n",
      "      Spain    Portugal                1                0        Spain    Round of 16\n",
      "   Paraguay       Spain                0                1        Spain Quarter-finals\n",
      "    Germany       Spain                0                1        Spain    Semi-finals\n",
      "Netherlands       Spain                0                1        Spain          Final\n",
      "\n",
      " Italy Road to World Cup Victory (2006)\n",
      "     home_team     away_team  home_goal_count  away_goal_count match_result          Round\n",
      "Czech Republic         Italy                0                2        Italy    Group stage\n",
      "         Italy United States                1                0        Italy    Group stage\n",
      "         Italy         Ghana                2                0        Italy    Group stage\n",
      "         Italy     Australia                0                0         Draw    Round of 16\n",
      "         Italy       Ukraine                3                0        Italy Quarter-finals\n",
      "       Germany         Italy                0                2        Italy    Semi-finals\n",
      "         Italy        France                1                0        Italy          Final\n"
     ]
    }
   ],
   "source": [
    "# Loop through all final winners and show their path\n",
    "for index, row in winners.iterrows():\n",
    "    winner_road_to_glory(row['winner'], row['Year'], conn)\n"
   ]
  },
  {
   "cell_type": "code",
   "execution_count": null,
   "id": "170eb108",
   "metadata": {},
   "outputs": [],
   "source": [
    "# Summary & Conclusion\n",
    "\n",
    "In this notebook, I explored FIFA World Cup data from 2006 to 2022 to analyze team performance, progression, and championship paths. Here's a quick recap of what was done:\n",
    "\n",
    "- Loaded and cleaned match data\n",
    "- Calculated goal counts and match results\n",
    "- Analyzed top teams by wins, goals, and win percentages\n",
    "- Tracked the tournament journeys of World Cup winners\n",
    "- Visualized team performance over time\n",
    "- Dynamically handled tournament years for future-proof analysis\n",
    "\n",
    "This project highlights how structured data analysis and SQL integration can be used to tell powerful stories in sports analytics.\n",
    "\n",
    "---\n",
    "\n",
    "Next steps (I may handle it later):\n",
    "- Add player-level data if available\n",
    "- Predict future outcomes using ML\n",
    "- Create an interactive dashboard\n",
    "\n",
    "Thanks for exploring this with me!\n"
   ]
  }
 ],
 "metadata": {
  "kernelspec": {
   "display_name": "Python 3",
   "language": "python",
   "name": "python3"
  },
  "language_info": {
   "codemirror_mode": {
    "name": "ipython",
    "version": 3
   },
   "file_extension": ".py",
   "mimetype": "text/x-python",
   "name": "python",
   "nbconvert_exporter": "python",
   "pygments_lexer": "ipython3",
   "version": "3.12.5"
  }
 },
 "nbformat": 4,
 "nbformat_minor": 5
}
